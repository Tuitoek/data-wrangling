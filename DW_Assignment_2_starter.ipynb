{
 "cells": [
  {
   "cell_type": "markdown",
   "metadata": {},
   "source": [
    "<table class=\"table table-bordered\">\n",
    "    <tr>\n",
    "        <th style=\"width:250px\"><img src='https://www.np.edu.sg/PublishingImages/Pages/default/odp/ICT.jpg' style=\"width: 100%; height: 125px; \"></th>\n",
    "        <th style=\"text-align:center;\"><h1>Data Wrangling</h1><h2>Assignment 2 </h2><h3>Specialist Diploma in Data Analytics</h3></th>\n",
    "    </tr>\n",
    "</table>"
   ]
  },
  {
   "cell_type": "code",
   "execution_count": null,
   "metadata": {},
   "outputs": [],
   "source": [
    "# import the packages\n",
    "import numpy as np\n",
    "import pandas as pd\n",
    "import math\n",
    "import matplotlib.pyplot as plt\n",
    "from sklearn.model_selection import train_test_split\n"
   ]
  },
  {
   "cell_type": "markdown",
   "metadata": {},
   "source": [
    "### Step 1: Load and Explore the Data"
   ]
  },
  {
   "cell_type": "code",
   "execution_count": null,
   "metadata": {},
   "outputs": [],
   "source": []
  },
  {
   "cell_type": "code",
   "execution_count": 37,
   "metadata": {
    "scrolled": false
   },
   "outputs": [
    {
     "data": {
      "text/plain": [
       "circuitId     object\n",
       "circuitRef    object\n",
       "name          object\n",
       "location      object\n",
       "country       object\n",
       "lat           object\n",
       "lng           object\n",
       "alt           object\n",
       "url           object\n",
       "dtype: object"
      ]
     },
     "execution_count": 37,
     "metadata": {},
     "output_type": "execute_result"
    }
   ],
   "source": [
    "\n",
    "import numpy as np\n",
    "import pandas as pd\n",
    "\n",
    "#Load the data into panda data  frames\n",
    "constructor_results = pd.read_csv(r'C:\\Users\\sjtoe\\Downloads\\Friday 4pm\\f1db_csv_mod\\constructor_results_mod.csv', names=['constructorResultsId','raceId','constructorId','points','status'], sep=\",\")\n",
    "constructors_mod = pd.read_csv(r'C:\\Users\\sjtoe\\Downloads\\Friday 4pm\\f1db_csv_mod\\constructors_mod.csv', names=['constructorId','constructorRef','name','nationality','url'], sep=\",\")\n",
    "driver_standings_mod = pd.read_csv(r'C:\\Users\\sjtoe\\Downloads\\Friday 4pm\\f1db_csv_mod\\driver_standings_mod.csv', names=['driverStandingsId','raceId','driverId','points','position','positionText','wins'], sep=\",\")\n",
    "drivers_mod = pd.read_csv(r'C:\\Users\\sjtoe\\Downloads\\Friday 4pm\\f1db_csv_mod\\drivers_mod.csv', names=['driverId','driverRef','number','code','forename','surname','dob','nationality','url'], sep=\",\")\n",
    "lap_times_mod =  pd.read_csv(r'C:\\Users\\sjtoe\\Downloads\\Friday 4pm\\f1db_csv_mod\\lap_times_mod.csv', names=['raceId','driverId','lap','position','time','milliseconds'], sep=\",\")\n",
    "pit_stops_mod = pd.read_csv(r'C:\\Users\\sjtoe\\Downloads\\Friday 4pm\\f1db_csv_mod\\pit_stops_mod.csv', names=['raceId','driverId','stop','lap','time','duration','milliseconds'], sep=\",\")\n",
    "qualifying_mod = pd.read_csv(r'C:\\Users\\sjtoe\\Downloads\\Friday 4pm\\f1db_csv_mod\\qualifying_mod.csv', names=['qualifyId','raceId','driverId','constructorId','number','position','q1','q2','q3'], sep=\",\")\n",
    "races_mod = pd.read_csv(r'C:\\Users\\sjtoe\\Downloads\\Friday 4pm\\f1db_csv_mod\\races_mod.csv',names=['raceId','round','circuitId','name','date','time','url'],sep=\",\")\n",
    "results_mod = pd.read_csv(r'C:\\Users\\sjtoe\\Downloads\\Friday 4pm\\f1db_csv_mod\\results_mod.csv',names=['resultId','raceId','driverId','constructorId','number','grid','position','positionText','positionOrder','points','laps','time','milliseconds','fastestLap','rank','fastestLapTime','fastestLapSpeed','statusId'],sep=\",\")\n",
    "status_mod = pd.read_csv(r'C:\\Users\\sjtoe\\Downloads\\Friday 4pm\\f1db_csv_mod\\status_mod.csv',names=['statusId','status'],sep=\",\")\n",
    "\n",
    "\n",
    "circuits = pd.read_csv(r'C:\\Users\\sjtoe\\Downloads\\Friday 4pm\\circuits.csv',names=['circuitId','circuitRef','name','location','country','lat','lng','alt','url'],sep=\",\")\n",
    "circuits.astype(str)\n",
    "circuits.dtypes\n",
    "\n",
    "#Load the panda dataframes datatypes\n",
    "# constructor_results.dtypes\n",
    "\n",
    "# #Checking for missing values \n",
    "# constructor_results.isna().sum()\n",
    "# constructors_mod.isna().sum()\n",
    "# driver_standings_mod.isna().sum()\n",
    "# drivers_mod.isna().sum()\n",
    "# lap_times_mod.isna().sum()\n",
    "# pit_stops_mod.isna().sum()\n",
    "\n",
    "# #Qualifying data has some missing data\n",
    "# qualifying_mod.isna().sum()\n",
    "# races_mod.isna().sum()\n",
    "# results_mod.isna().sum()\n",
    "\n",
    "\n",
    "# #Check the missing values for the results[]\n",
    "\n",
    "# results_mod[results_mod['resultId'].isna()]\n",
    "\n",
    "\n",
    "# #Describing the numerical values by getting the general feel of it\n",
    "# # results_mod.describe()\n",
    "# results_mod.dtypes\n",
    "\n",
    "# #Plotting the data for visualization\n",
    "# import matplotlib.pyplot as plt\n",
    "\n",
    "# # initializing the data\n",
    "# #Convert the object datatype to integer \n",
    "# results_mod = results_mod.astype(str).astype(int)\n",
    "# results_mod[\"DataFrame Column\"]= results_mod[\"DataFrame Column\"].map(str)\n",
    "# results_mod[\"DataFrame Column\"]= results_mod[\"DataFrame Column\"].apply(str)\n",
    "# results_mod[\"DataFrame Column\"]=results_mod[\"DataFrame Column\"].astype(str)\n",
    "# results_mod[\"DataFrame Column\"]= results_mod[\"DataFrame Column\"].values.astype(str)\n",
    "\n",
    "\n",
    "#Check the data types\n",
    "# stringcount  = 0\n",
    "# objectcount = 0\n",
    "# intcount  =- 0\n",
    "\n",
    "# for i in results_mod['resultId']:\n",
    "\n",
    "#     if results_mod['resultId'].dtypes == 'str':\n",
    "#         stringcount +=1\n",
    "#         print(' string count = {}'.formart(stringcount))\n",
    "              \n",
    "#     elif results_mod['resultId'].dtypes == 'int':\n",
    "#         intcount +=1\n",
    "#         print('Interger count = {}' .format(intcount))\n",
    "        \n",
    "#     else:\n",
    "#         objectcount +=1\n",
    "# print('Object count = {}'.format(objectcount))\n",
    "\n",
    "# y = results_mod['points']\n",
    "# x = results_mod['driverId']\n",
    " \n",
    "# # plotting the data\n",
    "# plt.bar(x, y, color='black', edgecolor='white',\n",
    "#         linewidth=1)\n",
    " \n",
    "# # Adding title to the plot\n",
    "# plt.title(\"bar chart for drivers against their points\")\n",
    " \n",
    "# # Adding label on the y-axis\n",
    "# plt.ylabel('Points')\n",
    " \n",
    "# # Adding label on the x-axis\n",
    "# plt.xlabel('Driver Id')\n",
    " \n",
    "# plt.show()\n",
    "\n",
    "\n",
    "\n"
   ]
  },
  {
   "cell_type": "code",
   "execution_count": null,
   "metadata": {},
   "outputs": [],
   "source": []
  },
  {
   "cell_type": "code",
   "execution_count": null,
   "metadata": {},
   "outputs": [],
   "source": []
  },
  {
   "cell_type": "code",
   "execution_count": null,
   "metadata": {},
   "outputs": [],
   "source": []
  },
  {
   "cell_type": "code",
   "execution_count": null,
   "metadata": {},
   "outputs": [],
   "source": []
  },
  {
   "cell_type": "markdown",
   "metadata": {},
   "source": [
    "### Step 2: Data Wrangling on multiple tables "
   ]
  },
  {
   "cell_type": "code",
   "execution_count": null,
   "metadata": {},
   "outputs": [],
   "source": []
  },
  {
   "cell_type": "code",
   "execution_count": null,
   "metadata": {},
   "outputs": [],
   "source": []
  },
  {
   "cell_type": "code",
   "execution_count": null,
   "metadata": {},
   "outputs": [],
   "source": []
  },
  {
   "cell_type": "code",
   "execution_count": null,
   "metadata": {},
   "outputs": [],
   "source": []
  },
  {
   "cell_type": "code",
   "execution_count": null,
   "metadata": {},
   "outputs": [],
   "source": []
  },
  {
   "cell_type": "code",
   "execution_count": null,
   "metadata": {},
   "outputs": [],
   "source": []
  },
  {
   "cell_type": "markdown",
   "metadata": {},
   "source": [
    "### Step 3: Data Cleansing and Transformation"
   ]
  },
  {
   "cell_type": "code",
   "execution_count": null,
   "metadata": {},
   "outputs": [],
   "source": []
  },
  {
   "cell_type": "code",
   "execution_count": null,
   "metadata": {},
   "outputs": [],
   "source": []
  },
  {
   "cell_type": "code",
   "execution_count": null,
   "metadata": {},
   "outputs": [],
   "source": []
  },
  {
   "cell_type": "code",
   "execution_count": null,
   "metadata": {},
   "outputs": [],
   "source": []
  },
  {
   "cell_type": "code",
   "execution_count": null,
   "metadata": {},
   "outputs": [],
   "source": []
  },
  {
   "cell_type": "code",
   "execution_count": null,
   "metadata": {},
   "outputs": [],
   "source": []
  },
  {
   "cell_type": "code",
   "execution_count": null,
   "metadata": {},
   "outputs": [],
   "source": []
  },
  {
   "cell_type": "code",
   "execution_count": null,
   "metadata": {},
   "outputs": [],
   "source": []
  },
  {
   "cell_type": "markdown",
   "metadata": {},
   "source": [
    "### Step 4: Machine Learning Modelling"
   ]
  },
  {
   "cell_type": "code",
   "execution_count": null,
   "metadata": {},
   "outputs": [],
   "source": []
  },
  {
   "cell_type": "code",
   "execution_count": null,
   "metadata": {},
   "outputs": [],
   "source": []
  },
  {
   "cell_type": "code",
   "execution_count": null,
   "metadata": {},
   "outputs": [],
   "source": []
  },
  {
   "cell_type": "code",
   "execution_count": null,
   "metadata": {},
   "outputs": [],
   "source": []
  },
  {
   "cell_type": "code",
   "execution_count": null,
   "metadata": {},
   "outputs": [],
   "source": []
  },
  {
   "cell_type": "markdown",
   "metadata": {},
   "source": [
    "### Report"
   ]
  },
  {
   "cell_type": "code",
   "execution_count": null,
   "metadata": {},
   "outputs": [],
   "source": [
    "Data Visualization is the process of presenting data in the form of graphs or charts. It helps to understand large and complex amounts of data very easily. It allows the decision-makers to make decisions very efficiently and also allows them in identifying new trends and patterns very easily. It is also used in high-level data analysis for Machine Learning and Exploratory Data Analysis (EDA).  Data visualization can be done with various tools like Tableau, Power BI, Python."
   ]
  }
 ],
 "metadata": {
  "kernelspec": {
   "display_name": "Python 3",
   "language": "python",
   "name": "python3"
  },
  "language_info": {
   "codemirror_mode": {
    "name": "ipython",
    "version": 3
   },
   "file_extension": ".py",
   "mimetype": "text/x-python",
   "name": "python",
   "nbconvert_exporter": "python",
   "pygments_lexer": "ipython3",
   "version": "3.8.8"
  }
 },
 "nbformat": 4,
 "nbformat_minor": 4
}
